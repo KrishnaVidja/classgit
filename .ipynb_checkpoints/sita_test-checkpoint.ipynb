{
 "cells": [
  {
   "cell_type": "code",
   "execution_count": 1,
   "id": "babe6425",
   "metadata": {},
   "outputs": [
    {
     "data": {
      "text/plain": [
       "'this is sita'"
      ]
     },
     "execution_count": 1,
     "metadata": {},
     "output_type": "execute_result"
    }
   ],
   "source": [
    "\"this is sita\""
   ]
  },
  {
   "cell_type": "code",
   "execution_count": 1,
   "id": "b1f75c88",
   "metadata": {},
   "outputs": [
    {
     "data": {
      "text/plain": [
       "'this is my modified file'"
      ]
     },
     "execution_count": 1,
     "metadata": {},
     "output_type": "execute_result"
    }
   ],
   "source": [
    "\"this is my modified file\""
   ]
  },
  {
   "cell_type": "code",
   "execution_count": null,
   "id": "591df394",
   "metadata": {},
   "outputs": [],
   "source": []
  }
 ],
 "metadata": {
  "kernelspec": {
   "display_name": "Python 3 (ipykernel)",
   "language": "python",
   "name": "python3"
  },
  "language_info": {
   "codemirror_mode": {
    "name": "ipython",
    "version": 3
   },
   "file_extension": ".py",
   "mimetype": "text/x-python",
   "name": "python",
   "nbconvert_exporter": "python",
   "pygments_lexer": "ipython3",
   "version": "3.9.7"
  }
 },
 "nbformat": 4,
 "nbformat_minor": 5
}
